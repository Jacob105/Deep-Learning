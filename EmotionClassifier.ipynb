{
  "cells": [
    {
      "cell_type": "markdown",
      "metadata": {
        "id": "view-in-github",
        "colab_type": "text"
      },
      "source": [
        "<a href=\"https://colab.research.google.com/github/Jacob105/Deep-Learning/blob/main/EmotionClassifier.ipynb\" target=\"_parent\"><img src=\"https://colab.research.google.com/assets/colab-badge.svg\" alt=\"Open In Colab\"/></a>"
      ]
    },
    {
      "metadata": {
        "id": "GXqsayMY49KF"
      },
      "cell_type": "markdown",
      "source": [
        "# Importing Libraries"
      ]
    },
    {
      "metadata": {
        "_uuid": "8f2839f25d086af736a60e9eeb907d3b93b6e0e5",
        "_cell_guid": "b1076dfc-b9ad-4769-8c92-a6c4dae69d19",
        "trusted": true,
        "id": "blnbcyXg49KI"
      },
      "cell_type": "code",
      "source": [
        "import matplotlib.pyplot as plt\n",
        "import numpy as np\n",
        "import pandas as pd\n",
        "import seaborn as sns\n",
        "import os\n",
        "\n",
        "from tensorflow.keras.preprocessing.image import load_img, img_to_array, ImageDataGenerator\n",
        "from tensorflow.keras.layers import Dense, Input, Dropout, GlobalAveragePooling2D, Flatten, Conv2D, BatchNormalization, Activation, MaxPooling2D\n",
        "from tensorflow.keras.models import Model, Sequential\n",
        "from tensorflow.keras.optimizers import Adam, SGD, RMSprop"
      ],
      "execution_count": null,
      "outputs": []
    },
    {
      "cell_type": "code",
      "source": [
        "!pip install kaggle\n",
        "!mkdir -p ~/.kaggle\n",
        "!cp kaggle.json ~/.kaggle/\n",
        "!chmod 600 ~/.kaggle/kaggle.json"
      ],
      "metadata": {
        "colab": {
          "base_uri": "https://localhost:8080/"
        },
        "id": "w3F657fxInfC",
        "outputId": "d04d8351-2b7f-4676-f972-ac533bf79882"
      },
      "execution_count": null,
      "outputs": [
        {
          "output_type": "stream",
          "name": "stdout",
          "text": [
            "Requirement already satisfied: kaggle in /usr/local/lib/python3.10/dist-packages (1.6.14)\n",
            "Requirement already satisfied: six>=1.10 in /usr/local/lib/python3.10/dist-packages (from kaggle) (1.16.0)\n",
            "Requirement already satisfied: certifi>=2023.7.22 in /usr/local/lib/python3.10/dist-packages (from kaggle) (2024.2.2)\n",
            "Requirement already satisfied: python-dateutil in /usr/local/lib/python3.10/dist-packages (from kaggle) (2.8.2)\n",
            "Requirement already satisfied: requests in /usr/local/lib/python3.10/dist-packages (from kaggle) (2.31.0)\n",
            "Requirement already satisfied: tqdm in /usr/local/lib/python3.10/dist-packages (from kaggle) (4.66.4)\n",
            "Requirement already satisfied: python-slugify in /usr/local/lib/python3.10/dist-packages (from kaggle) (8.0.4)\n",
            "Requirement already satisfied: urllib3 in /usr/local/lib/python3.10/dist-packages (from kaggle) (2.0.7)\n",
            "Requirement already satisfied: bleach in /usr/local/lib/python3.10/dist-packages (from kaggle) (6.1.0)\n",
            "Requirement already satisfied: webencodings in /usr/local/lib/python3.10/dist-packages (from bleach->kaggle) (0.5.1)\n",
            "Requirement already satisfied: text-unidecode>=1.3 in /usr/local/lib/python3.10/dist-packages (from python-slugify->kaggle) (1.3)\n",
            "Requirement already satisfied: charset-normalizer<4,>=2 in /usr/local/lib/python3.10/dist-packages (from requests->kaggle) (3.3.2)\n",
            "Requirement already satisfied: idna<4,>=2.5 in /usr/local/lib/python3.10/dist-packages (from requests->kaggle) (3.7)\n"
          ]
        }
      ]
    },
    {
      "cell_type": "code",
      "source": [
        "!kaggle datasets download -d jonathanoheix/face-expression-recognition-dataset\n",
        "\n",
        "# List files to confirm the name of the downloaded file\n",
        "!ls\n",
        "\n",
        "# Unzip the dataset (adjust the filename if necessary)\n",
        "import zipfile\n",
        "\n",
        "# Replace 'face-expression-recognition-dataset.zip' with the correct file name if different\n",
        "with zipfile.ZipFile(\"face-expression-recognition-dataset.zip\", 'r') as zip_ref:\n",
        "    zip_ref.extractall(\"face_expression_recognition_dataset\")"
      ],
      "metadata": {
        "colab": {
          "base_uri": "https://localhost:8080/"
        },
        "id": "_MQTLqoXEeMo",
        "outputId": "9d47b5e8-6979-4658-9e45-bc5eb63d9e93"
      },
      "execution_count": null,
      "outputs": [
        {
          "output_type": "stream",
          "name": "stdout",
          "text": [
            "Dataset URL: https://www.kaggle.com/datasets/jonathanoheix/face-expression-recognition-dataset\n",
            "License(s): unknown\n",
            "Downloading face-expression-recognition-dataset.zip to /content\n",
            "100% 120M/121M [00:06<00:00, 20.7MB/s]\n",
            "100% 121M/121M [00:06<00:00, 18.1MB/s]\n",
            "face-expression-recognition-dataset.zip  kaggle.json  sample_data\n"
          ]
        }
      ]
    },
    {
      "metadata": {
        "id": "gIBF0lfB49KJ"
      },
      "cell_type": "markdown",
      "source": [
        "# Displaying Images"
      ]
    },
    {
      "metadata": {
        "_uuid": "d629ff2d2480ee46fbb7e2d37f6b5fab8052498a",
        "_cell_guid": "79c7e3d0-c299-4dcb-8224-4455121ee9b0",
        "trusted": true,
        "id": "X8PzGfe749KK"
      },
      "cell_type": "code",
      "source": [
        "picture_size = 48\n",
        "folder_path_train = \"/content/face_expression_recognition_dataset/images/train/\"\n",
        "folder_path_val = \"/content/face_expression_recognition_dataset/images/validation/\""
      ],
      "execution_count": null,
      "outputs": []
    },
    {
      "metadata": {
        "trusted": true,
        "colab": {
          "base_uri": "https://localhost:8080/",
          "height": 961
        },
        "id": "0BHNI-yR49KK",
        "outputId": "dc94489c-8624-4feb-845b-633558ce742c"
      },
      "cell_type": "code",
      "source": [
        "expression = 'fear'\n",
        "\n",
        "# Construct the full path to the expression directory\n",
        "expression_path = os.path.join(folder_path_train, expression)\n",
        "\n",
        "# Verify if the folder exists\n",
        "if not os.path.exists(expression_path):\n",
        "    raise FileNotFoundError(f\"The path {expression_path} does not exist.\")\n",
        "\n",
        "# Get the list of images in the directory\n",
        "image_files = os.listdir(expression_path)\n",
        "if len(image_files) == 0:\n",
        "    raise FileNotFoundError(f\"No files found in the directory {expression_path}\")\n",
        "\n",
        "plt.figure(figsize=(12, 12))\n",
        "for i in range(1, 10):\n",
        "    plt.subplot(3, 3, i)\n",
        "\n",
        "    # Ensure that the index i is within the range of available images\n",
        "    if i >= len(image_files):\n",
        "        print(f\"Warning: Not enough images in the directory. Only {len(image_files)} images found.\")\n",
        "        break\n",
        "\n",
        "    img_path = os.path.join(expression_path, image_files[i])\n",
        "    img = load_img(img_path, target_size=(picture_size, picture_size))\n",
        "    plt.imshow(img)\n",
        "    plt.axis('off')  # Hide axes for better display\n",
        "\n",
        "plt.show()"
      ],
      "execution_count": null,
      "outputs": [
        {
          "output_type": "display_data",
          "data": {
            "text/plain": [
              "<Figure size 1200x1200 with 9 Axes>"
            ],
            "image/png": "[encoded data removed]"
          },
          "metadata": {}
        }
      ]
    },
    {
      "metadata": {
        "id": "VtAdNJT249KL"
      },
      "cell_type": "markdown",
      "source": [
        "# Making Training and Validation Data"
      ]
    },
    {
      "metadata": {
        "trusted": true,
        "colab": {
          "base_uri": "https://localhost:8080/"
        },
        "id": "uzMzMIZS49KL",
        "outputId": "089e4852-5982-4ca6-8e8b-266fc517d9d9"
      },
      "cell_type": "code",
      "source": [
        "batch_size = 128\n",
        "\n",
        "\n",
        "# Correcting the paths to \"train\" and \"validation\" directories\n",
        "train_dir = os.path.join(folder_path_train)\n",
        "validation_dir = os.path.join(folder_path_val)\n",
        "\n",
        "datagen_train = ImageDataGenerator(\n",
        "    rescale=1./255,\n",
        "    rotation_range=10,\n",
        "    zoom_range=0.1,\n",
        "    width_shift_range=0.1,\n",
        "    height_shift_range=0.1,\n",
        "    horizontal_flip=True\n",
        ")\n",
        "\n",
        "datagen_val = ImageDataGenerator(rescale=1./255)\n",
        "\n",
        "train_set = datagen_train.flow_from_directory(train_dir,\n",
        "                                              target_size=(picture_size, picture_size),\n",
        "                                              color_mode=\"grayscale\",\n",
        "                                              batch_size=batch_size,\n",
        "                                              class_mode='categorical',\n",
        "                                              shuffle=True)\n",
        "\n",
        "test_set = datagen_val.flow_from_directory(validation_dir,\n",
        "                                           target_size=(picture_size, picture_size),\n",
        "                                           color_mode=\"grayscale\",\n",
        "                                           batch_size=batch_size,\n",
        "                                           class_mode='categorical',\n",
        "                                           shuffle=False)"
      ],
      "execution_count": null,
      "outputs": [
        {
          "output_type": "stream",
          "name": "stdout",
          "text": [
            "Found 28821 images belonging to 7 classes.\n",
            "Found 7066 images belonging to 7 classes.\n"
          ]
        }
      ]
    },
    {
      "metadata": {
        "id": "S4qGiBNH49KL"
      },
      "cell_type": "markdown",
      "source": [
        "# Model Building"
      ]
    },
    {
      "metadata": {
        "trusted": true,
        "colab": {
          "base_uri": "https://localhost:8080/"
        },
        "id": "ygMzr0tJ49KM",
        "outputId": "da7941d6-5a2f-4cb0-87e4-56f966525444"
      },
      "cell_type": "code",
      "source": [
        "from tensorflow.keras.optimizers import Adam, SGD, RMSprop\n",
        "from tensorflow.keras.regularizers import l2\n",
        "\n",
        "no_of_classes = 7\n",
        "\n",
        "model = Sequential()\n",
        "\n",
        "# 1st CNN layer\n",
        "model.add(Conv2D(64, (3, 3), padding='same', input_shape=(48, 48, 1)))\n",
        "model.add(BatchNormalization())\n",
        "model.add(Activation('relu'))\n",
        "model.add(MaxPooling2D(pool_size=(2, 2)))\n",
        "model.add(Dropout(0.2))\n",
        "\n",
        "# 2nd CNN layer\n",
        "model.add(Conv2D(128, (5, 5), padding='same'))\n",
        "model.add(BatchNormalization())\n",
        "model.add(Activation('relu'))\n",
        "model.add(MaxPooling2D(pool_size=(2, 2)))\n",
        "model.add(Dropout(0.2))\n",
        "\n",
        "# 3rd CNN layer\n",
        "model.add(Conv2D(512, (3, 3), padding='same'))\n",
        "model.add(BatchNormalization())\n",
        "model.add(Activation('relu'))\n",
        "model.add(MaxPooling2D(pool_size=(2, 2)))\n",
        "model.add(Dropout(0.2))\n",
        "\n",
        "# 4th CNN layer\n",
        "model.add(Conv2D(512, (3, 3), padding='same'))\n",
        "model.add(BatchNormalization())\n",
        "model.add(Activation('relu'))\n",
        "model.add(MaxPooling2D(pool_size=(2, 2)))\n",
        "model.add(Dropout(0.2))\n",
        "\n",
        "model.add(Flatten())\n",
        "\n",
        "# Fully connected 1st layer\n",
        "model.add(Dense(256, kernel_regularizer=l2(0.01)))\n",
        "model.add(BatchNormalization())\n",
        "model.add(Activation('relu'))\n",
        "model.add(Dropout(0.2))\n",
        "\n",
        "# Fully connected 2nd layer\n",
        "model.add(Dense(512, kernel_regularizer=l2(0.01)))\n",
        "model.add(BatchNormalization())\n",
        "model.add(Activation('relu'))\n",
        "model.add(Dropout(0.2))\n",
        "\n",
        "model.add(Dense(no_of_classes, activation='softmax'))\n",
        "\n",
        "opt = Adam(learning_rate=0.0001)\n",
        "model.compile(optimizer=opt, loss='categorical_crossentropy', metrics=['accuracy'])\n",
        "model.summary()"
      ],
      "execution_count": null,
      "outputs": [
        {
          "output_type": "stream",
          "name": "stdout",
          "text": [
            "Model: \"sequential\"\n",
            "_________________________________________________________________\n",
            " Layer (type)                Output Shape              Param #   \n",
            "=================================================================\n",
            " conv2d (Conv2D)             (None, 48, 48, 64)        640       \n",
            "                                                                 \n",
            " batch_normalization (Batch  (None, 48, 48, 64)        256       \n",
            " Normalization)                                                  \n",
            "                                                                 \n",
            " activation (Activation)     (None, 48, 48, 64)        0         \n",
            "                                                                 \n",
            " max_pooling2d (MaxPooling2  (None, 24, 24, 64)        0         \n",
            " D)                                                              \n",
            "                                                                 \n",
            " dropout (Dropout)           (None, 24, 24, 64)        0         \n",
            "                                                                 \n",
            " conv2d_1 (Conv2D)           (None, 24, 24, 128)       204928    \n",
            "                                                                 \n",
            " batch_normalization_1 (Bat  (None, 24, 24, 128)       512       \n",
            " chNormalization)                                                \n",
            "                                                                 \n",
            " activation_1 (Activation)   (None, 24, 24, 128)       0         \n",
            "                                                                 \n",
            " max_pooling2d_1 (MaxPoolin  (None, 12, 12, 128)       0         \n",
            " g2D)                                                            \n",
            "                                                                 \n",
            " dropout_1 (Dropout)         (None, 12, 12, 128)       0         \n",
            "                                                                 \n",
            " conv2d_2 (Conv2D)           (None, 12, 12, 512)       590336    \n",
            "                                                                 \n",
            " batch_normalization_2 (Bat  (None, 12, 12, 512)       2048      \n",
            " chNormalization)                                                \n",
            "                                                                 \n",
            " activation_2 (Activation)   (None, 12, 12, 512)       0         \n",
            "                                                                 \n",
            " max_pooling2d_2 (MaxPoolin  (None, 6, 6, 512)         0         \n",
            " g2D)                                                            \n",
            "                                                                 \n",
            " dropout_2 (Dropout)         (None, 6, 6, 512)         0         \n",
            "                                                                 \n",
            " conv2d_3 (Conv2D)           (None, 6, 6, 512)         2359808   \n",
            "                                                                 \n",
            " batch_normalization_3 (Bat  (None, 6, 6, 512)         2048      \n",
            " chNormalization)                                                \n",
            "                                                                 \n",
            " activation_3 (Activation)   (None, 6, 6, 512)         0         \n",
            "                                                                 \n",
            " max_pooling2d_3 (MaxPoolin  (None, 3, 3, 512)         0         \n",
            " g2D)                                                            \n",
            "                                                                 \n",
            " dropout_3 (Dropout)         (None, 3, 3, 512)         0         \n",
            "                                                                 \n",
            " flatten (Flatten)           (None, 4608)              0         \n",
            "                                                                 \n",
            " dense (Dense)               (None, 256)               1179904   \n",
            "                                                                 \n",
            " batch_normalization_4 (Bat  (None, 256)               1024      \n",
            " chNormalization)                                                \n",
            "                                                                 \n",
            " activation_4 (Activation)   (None, 256)               0         \n",
            "                                                                 \n",
            " dropout_4 (Dropout)         (None, 256)               0         \n",
            "                                                                 \n",
            " dense_1 (Dense)             (None, 512)               131584    \n",
            "                                                                 \n",
            " batch_normalization_5 (Bat  (None, 512)               2048      \n",
            " chNormalization)                                                \n",
            "                                                                 \n",
            " activation_5 (Activation)   (None, 512)               0         \n",
            "                                                                 \n",
            " dropout_5 (Dropout)         (None, 512)               0         \n",
            "                                                                 \n",
            " dense_2 (Dense)             (None, 7)                 3591      \n",
            "                                                                 \n",
            "=================================================================\n",
            "Total params: 4478727 (17.08 MB)\n",
            "Trainable params: 4474759 (17.07 MB)\n",
            "Non-trainable params: 3968 (15.50 KB)\n",
            "_________________________________________________________________\n"
          ]
        }
      ]
    },
    {
      "metadata": {
        "id": "sTrPygym49KM"
      },
      "cell_type": "markdown",
      "source": [
        "# Fitting the Model with Training and Validation Data"
      ]
    },
    {
      "metadata": {
        "trusted": true,
        "id": "a-8vLq2o49KM",
        "colab": {
          "base_uri": "https://localhost:8080/"
        },
        "outputId": "3f89ece3-4965-442e-d840-34e145cd8b6f"
      },
      "cell_type": "code",
      "source": [
        "from tensorflow.keras.optimizers import RMSprop, SGD, Adam\n",
        "from tensorflow.keras.callbacks import ModelCheckpoint, EarlyStopping, ReduceLROnPlateau\n",
        "\n",
        "# Define callbacks\n",
        "checkpoint = ModelCheckpoint(\"./model.h5\", monitor='val_accuracy', verbose=1, save_best_only=True, mode='max')\n",
        "\n",
        "early_stopping = EarlyStopping(monitor='val_loss',\n",
        "                               min_delta=0,\n",
        "                               patience=4,\n",
        "                               verbose=1,\n",
        "                               restore_best_weights=True)\n",
        "\n",
        "reduce_learningrate = ReduceLROnPlateau(monitor='val_loss',\n",
        "                                        factor=0.2,\n",
        "                                        patience=2,\n",
        "                                        verbose=1,\n",
        "                                        min_delta=0.0001)\n",
        "learning_rates = [0.01, 0.001, 0.0001]\n",
        "\n",
        "for lr in learning_rates:\n",
        "    print(f\"Training with learning rate: {lr}\")\n",
        "    model.compile(optimizer=Adam(learning_rate=lr), loss='categorical_crossentropy', metrics=['accuracy'])\n",
        "\n",
        "callbacks_list = [early_stopping, checkpoint, reduce_learningrate]\n",
        "\n",
        "# Set the number of epochs\n",
        "epochs = 48\n",
        "\n",
        "# Compile the model\n",
        "\n"
      ],
      "execution_count": null,
      "outputs": [
        {
          "output_type": "stream",
          "name": "stdout",
          "text": [
            "Training with learning rate: 0.01\n",
            "Training with learning rate: 0.001\n",
            "Training with learning rate: 0.0001\n"
          ]
        }
      ]
    },
    {
      "metadata": {
        "trusted": true,
        "colab": {
          "base_uri": "https://localhost:8080/"
        },
        "id": "qPjsVR2249KN",
        "outputId": "1d251f90-78fd-477f-a0dd-f90795942086"
      },
      "cell_type": "code",
      "source": [
        "history = model.fit(\n",
        "    x=train_set,\n",
        "    steps_per_epoch=train_set.n // train_set.batch_size,\n",
        "    epochs=epochs,\n",
        "    validation_data=test_set,\n",
        "    validation_steps=test_set.n // test_set.batch_size,\n",
        "    callbacks=callbacks_list\n",
        ")"
      ],
      "execution_count": null,
      "outputs": [
        {
          "output_type": "stream",
          "name": "stdout",
          "text": [
            "Epoch 1/48\n",
            "225/225 [==============================] - ETA: 0s - loss: 9.5223 - accuracy: 0.2295\n",
            "Epoch 1: val_accuracy improved from -inf to 0.25923, saving model to ./model.h5\n",
            "225/225 [==============================] - 33s 98ms/step - loss: 9.5223 - accuracy: 0.2295 - val_loss: 8.6137 - val_accuracy: 0.2592 - lr: 1.0000e-04\n",
            "Epoch 2/48\n"
          ]
        },
        {
          "output_type": "stream",
          "name": "stderr",
          "text": [
            "/usr/local/lib/python3.10/dist-packages/keras/src/engine/training.py:3103: UserWarning: You are saving your model as an HDF5 file via `model.save()`. This file format is considered legacy. We recommend using instead the native Keras format, e.g. `model.save('my_model.keras')`.\n",
            "  saving_api.save_model(\n"
          ]
        },
        {
          "output_type": "stream",
          "name": "stdout",
          "text": [
            "225/225 [==============================] - ETA: 0s - loss: 7.9086 - accuracy: 0.2652\n",
            "Epoch 2: val_accuracy improved from 0.25923 to 0.26463, saving model to ./model.h5\n",
            "225/225 [==============================] - 21s 92ms/step - loss: 7.9086 - accuracy: 0.2652 - val_loss: 7.1936 - val_accuracy: 0.2646 - lr: 1.0000e-04\n",
            "Epoch 3/48\n",
            "225/225 [==============================] - ETA: 0s - loss: 6.5906 - accuracy: 0.2903\n",
            "Epoch 3: val_accuracy improved from 0.26463 to 0.31733, saving model to ./model.h5\n",
            "225/225 [==============================] - 21s 92ms/step - loss: 6.5906 - accuracy: 0.2903 - val_loss: 5.9915 - val_accuracy: 0.3173 - lr: 1.0000e-04\n",
            "Epoch 4/48\n",
            "225/225 [==============================] - ETA: 0s - loss: 5.5331 - accuracy: 0.3253\n",
            "Epoch 4: val_accuracy improved from 0.31733 to 0.35710, saving model to ./model.h5\n",
            "225/225 [==============================] - 21s 92ms/step - loss: 5.5331 - accuracy: 0.3253 - val_loss: 5.0418 - val_accuracy: 0.3571 - lr: 1.0000e-04\n",
            "Epoch 5/48\n",
            "225/225 [==============================] - ETA: 0s - loss: 4.7043 - accuracy: 0.3501\n",
            "Epoch 5: val_accuracy improved from 0.35710 to 0.40327, saving model to ./model.h5\n",
            "225/225 [==============================] - 21s 92ms/step - loss: 4.7043 - accuracy: 0.3501 - val_loss: 4.2789 - val_accuracy: 0.4033 - lr: 1.0000e-04\n",
            "Epoch 6/48\n",
            "225/225 [==============================] - ETA: 0s - loss: 4.0626 - accuracy: 0.3730\n",
            "Epoch 6: val_accuracy improved from 0.40327 to 0.41705, saving model to ./model.h5\n",
            "225/225 [==============================] - 21s 92ms/step - loss: 4.0626 - accuracy: 0.3730 - val_loss: 3.7196 - val_accuracy: 0.4170 - lr: 1.0000e-04\n",
            "Epoch 7/48\n",
            "225/225 [==============================] - ETA: 0s - loss: 3.5646 - accuracy: 0.3974\n",
            "Epoch 7: val_accuracy improved from 0.41705 to 0.43437, saving model to ./model.h5\n",
            "225/225 [==============================] - 21s 91ms/step - loss: 3.5646 - accuracy: 0.3974 - val_loss: 3.3069 - val_accuracy: 0.4344 - lr: 1.0000e-04\n",
            "Epoch 8/48\n",
            "225/225 [==============================] - ETA: 0s - loss: 3.1660 - accuracy: 0.4106\n",
            "Epoch 8: val_accuracy improved from 0.43437 to 0.45057, saving model to ./model.h5\n",
            "225/225 [==============================] - 21s 91ms/step - loss: 3.1660 - accuracy: 0.4106 - val_loss: 2.9333 - val_accuracy: 0.4506 - lr: 1.0000e-04\n",
            "Epoch 9/48\n",
            "225/225 [==============================] - ETA: 0s - loss: 2.8641 - accuracy: 0.4240\n",
            "Epoch 9: val_accuracy did not improve from 0.45057\n",
            "225/225 [==============================] - 21s 91ms/step - loss: 2.8641 - accuracy: 0.4240 - val_loss: 2.6946 - val_accuracy: 0.4486 - lr: 1.0000e-04\n",
            "Epoch 10/48\n",
            "225/225 [==============================] - ETA: 0s - loss: 2.5998 - accuracy: 0.4451\n",
            "Epoch 10: val_accuracy improved from 0.45057 to 0.48920, saving model to ./model.h5\n",
            "225/225 [==============================] - 21s 91ms/step - loss: 2.5998 - accuracy: 0.4451 - val_loss: 2.4249 - val_accuracy: 0.4892 - lr: 1.0000e-04\n",
            "Epoch 11/48\n",
            "225/225 [==============================] - ETA: 0s - loss: 2.3890 - accuracy: 0.4629\n",
            "Epoch 11: val_accuracy improved from 0.48920 to 0.49815, saving model to ./model.h5\n",
            "225/225 [==============================] - 21s 91ms/step - loss: 2.3890 - accuracy: 0.4629 - val_loss: 2.2971 - val_accuracy: 0.4982 - lr: 1.0000e-04\n",
            "Epoch 12/48\n",
            "225/225 [==============================] - ETA: 0s - loss: 2.2143 - accuracy: 0.4765\n",
            "Epoch 12: val_accuracy improved from 0.49815 to 0.53366, saving model to ./model.h5\n",
            "225/225 [==============================] - 21s 91ms/step - loss: 2.2143 - accuracy: 0.4765 - val_loss: 2.0166 - val_accuracy: 0.5337 - lr: 1.0000e-04\n",
            "Epoch 13/48\n",
            "225/225 [==============================] - ETA: 0s - loss: 2.0713 - accuracy: 0.4901\n",
            "Epoch 13: val_accuracy did not improve from 0.53366\n",
            "225/225 [==============================] - 20s 91ms/step - loss: 2.0713 - accuracy: 0.4901 - val_loss: 1.9355 - val_accuracy: 0.5270 - lr: 1.0000e-04\n",
            "Epoch 14/48\n",
            "225/225 [==============================] - ETA: 0s - loss: 1.9579 - accuracy: 0.4992\n",
            "Epoch 14: val_accuracy improved from 0.53366 to 0.55313, saving model to ./model.h5\n",
            "225/225 [==============================] - 20s 91ms/step - loss: 1.9579 - accuracy: 0.4992 - val_loss: 1.7902 - val_accuracy: 0.5531 - lr: 1.0000e-04\n",
            "Epoch 15/48\n",
            "225/225 [==============================] - ETA: 0s - loss: 1.8536 - accuracy: 0.5063\n",
            "Epoch 15: val_accuracy did not improve from 0.55313\n",
            "225/225 [==============================] - 21s 91ms/step - loss: 1.8536 - accuracy: 0.5063 - val_loss: 1.7495 - val_accuracy: 0.5403 - lr: 1.0000e-04\n",
            "Epoch 16/48\n",
            "225/225 [==============================] - ETA: 0s - loss: 1.7690 - accuracy: 0.5119\n",
            "Epoch 16: val_accuracy did not improve from 0.55313\n",
            "225/225 [==============================] - 20s 91ms/step - loss: 1.7690 - accuracy: 0.5119 - val_loss: 1.6833 - val_accuracy: 0.5357 - lr: 1.0000e-04\n",
            "Epoch 17/48\n",
            "225/225 [==============================] - ETA: 0s - loss: 1.6992 - accuracy: 0.5233\n",
            "Epoch 17: val_accuracy improved from 0.55313 to 0.57884, saving model to ./model.h5\n",
            "225/225 [==============================] - 21s 93ms/step - loss: 1.6992 - accuracy: 0.5233 - val_loss: 1.5585 - val_accuracy: 0.5788 - lr: 1.0000e-04\n",
            "Epoch 18/48\n",
            "225/225 [==============================] - ETA: 0s - loss: 1.6363 - accuracy: 0.5293\n",
            "Epoch 18: val_accuracy did not improve from 0.57884\n",
            "225/225 [==============================] - 21s 91ms/step - loss: 1.6363 - accuracy: 0.5293 - val_loss: 1.5233 - val_accuracy: 0.5634 - lr: 1.0000e-04\n",
            "Epoch 19/48\n",
            "225/225 [==============================] - ETA: 0s - loss: 1.5865 - accuracy: 0.5361\n",
            "Epoch 19: val_accuracy did not improve from 0.57884\n",
            "225/225 [==============================] - 21s 91ms/step - loss: 1.5865 - accuracy: 0.5361 - val_loss: 1.4918 - val_accuracy: 0.5716 - lr: 1.0000e-04\n",
            "Epoch 20/48\n",
            "225/225 [==============================] - ETA: 0s - loss: 1.5380 - accuracy: 0.5417\n",
            "Epoch 20: val_accuracy did not improve from 0.57884\n",
            "225/225 [==============================] - 20s 91ms/step - loss: 1.5380 - accuracy: 0.5417 - val_loss: 1.4532 - val_accuracy: 0.5767 - lr: 1.0000e-04\n",
            "Epoch 21/48\n",
            "225/225 [==============================] - ETA: 0s - loss: 1.5001 - accuracy: 0.5486\n",
            "Epoch 21: val_accuracy did not improve from 0.57884\n",
            "225/225 [==============================] - 20s 91ms/step - loss: 1.5001 - accuracy: 0.5486 - val_loss: 1.4304 - val_accuracy: 0.5695 - lr: 1.0000e-04\n",
            "Epoch 22/48\n",
            "225/225 [==============================] - ETA: 0s - loss: 1.4636 - accuracy: 0.5512\n",
            "Epoch 22: val_accuracy improved from 0.57884 to 0.58693, saving model to ./model.h5\n",
            "225/225 [==============================] - 21s 92ms/step - loss: 1.4636 - accuracy: 0.5512 - val_loss: 1.3657 - val_accuracy: 0.5869 - lr: 1.0000e-04\n",
            "Epoch 23/48\n",
            "225/225 [==============================] - ETA: 0s - loss: 1.4361 - accuracy: 0.5531\n",
            "Epoch 23: val_accuracy improved from 0.58693 to 0.59048, saving model to ./model.h5\n",
            "225/225 [==============================] - 21s 91ms/step - loss: 1.4361 - accuracy: 0.5531 - val_loss: 1.3383 - val_accuracy: 0.5905 - lr: 1.0000e-04\n",
            "Epoch 24/48\n",
            "225/225 [==============================] - ETA: 0s - loss: 1.4147 - accuracy: 0.5563\n",
            "Epoch 24: val_accuracy improved from 0.59048 to 0.59062, saving model to ./model.h5\n",
            "225/225 [==============================] - 21s 91ms/step - loss: 1.4147 - accuracy: 0.5563 - val_loss: 1.3468 - val_accuracy: 0.5906 - lr: 1.0000e-04\n",
            "Epoch 25/48\n",
            "225/225 [==============================] - ETA: 0s - loss: 1.3830 - accuracy: 0.5637\n",
            "Epoch 25: val_accuracy did not improve from 0.59062\n",
            "\n",
            "Epoch 25: ReduceLROnPlateau reducing learning rate to 1.9999999494757503e-05.\n",
            "225/225 [==============================] - 21s 91ms/step - loss: 1.3830 - accuracy: 0.5637 - val_loss: 1.3413 - val_accuracy: 0.5879 - lr: 1.0000e-04\n",
            "Epoch 26/48\n",
            "225/225 [==============================] - ETA: 0s - loss: 1.3378 - accuracy: 0.5735\n",
            "Epoch 26: val_accuracy improved from 0.59062 to 0.61932, saving model to ./model.h5\n",
            "225/225 [==============================] - 21s 92ms/step - loss: 1.3378 - accuracy: 0.5735 - val_loss: 1.2461 - val_accuracy: 0.6193 - lr: 2.0000e-05\n",
            "Epoch 27/48\n",
            "225/225 [==============================] - ETA: 0s - loss: 1.3214 - accuracy: 0.5827\n",
            "Epoch 27: val_accuracy did not improve from 0.61932\n",
            "225/225 [==============================] - 21s 91ms/step - loss: 1.3214 - accuracy: 0.5827 - val_loss: 1.2563 - val_accuracy: 0.6111 - lr: 2.0000e-05\n",
            "Epoch 28/48\n",
            "225/225 [==============================] - ETA: 0s - loss: 1.3018 - accuracy: 0.5869\n",
            "Epoch 28: val_accuracy did not improve from 0.61932\n",
            "225/225 [==============================] - 21s 91ms/step - loss: 1.3018 - accuracy: 0.5869 - val_loss: 1.2395 - val_accuracy: 0.6152 - lr: 2.0000e-05\n",
            "Epoch 29/48\n",
            "225/225 [==============================] - ETA: 0s - loss: 1.2964 - accuracy: 0.5864\n",
            "Epoch 29: val_accuracy did not improve from 0.61932\n",
            "225/225 [==============================] - 21s 91ms/step - loss: 1.2964 - accuracy: 0.5864 - val_loss: 1.2343 - val_accuracy: 0.6118 - lr: 2.0000e-05\n",
            "Epoch 30/48\n",
            "225/225 [==============================] - ETA: 0s - loss: 1.2785 - accuracy: 0.5921\n",
            "Epoch 30: val_accuracy did not improve from 0.61932\n",
            "225/225 [==============================] - 20s 91ms/step - loss: 1.2785 - accuracy: 0.5921 - val_loss: 1.2399 - val_accuracy: 0.6089 - lr: 2.0000e-05\n",
            "Epoch 31/48\n",
            "225/225 [==============================] - ETA: 0s - loss: 1.2746 - accuracy: 0.5903\n",
            "Epoch 31: val_accuracy improved from 0.61932 to 0.62869, saving model to ./model.h5\n",
            "225/225 [==============================] - 21s 93ms/step - loss: 1.2746 - accuracy: 0.5903 - val_loss: 1.2023 - val_accuracy: 0.6287 - lr: 2.0000e-05\n",
            "Epoch 32/48\n",
            "225/225 [==============================] - ETA: 0s - loss: 1.2530 - accuracy: 0.5969\n",
            "Epoch 32: val_accuracy did not improve from 0.62869\n",
            "225/225 [==============================] - 20s 91ms/step - loss: 1.2530 - accuracy: 0.5969 - val_loss: 1.2276 - val_accuracy: 0.6054 - lr: 2.0000e-05\n",
            "Epoch 33/48\n",
            "225/225 [==============================] - ETA: 0s - loss: 1.2529 - accuracy: 0.5986\n",
            "Epoch 33: val_accuracy did not improve from 0.62869\n",
            "225/225 [==============================] - 21s 91ms/step - loss: 1.2529 - accuracy: 0.5986 - val_loss: 1.1949 - val_accuracy: 0.6219 - lr: 2.0000e-05\n",
            "Epoch 34/48\n",
            "225/225 [==============================] - ETA: 0s - loss: 1.2466 - accuracy: 0.5975\n",
            "Epoch 34: val_accuracy did not improve from 0.62869\n",
            "225/225 [==============================] - 20s 91ms/step - loss: 1.2466 - accuracy: 0.5975 - val_loss: 1.2005 - val_accuracy: 0.6138 - lr: 2.0000e-05\n",
            "Epoch 35/48\n",
            "225/225 [==============================] - ETA: 0s - loss: 1.2376 - accuracy: 0.5971\n",
            "Epoch 35: val_accuracy did not improve from 0.62869\n",
            "225/225 [==============================] - 20s 90ms/step - loss: 1.2376 - accuracy: 0.5971 - val_loss: 1.1799 - val_accuracy: 0.6209 - lr: 2.0000e-05\n",
            "Epoch 36/48\n",
            "225/225 [==============================] - ETA: 0s - loss: 1.2303 - accuracy: 0.6044\n",
            "Epoch 36: val_accuracy did not improve from 0.62869\n",
            "225/225 [==============================] - 21s 91ms/step - loss: 1.2303 - accuracy: 0.6044 - val_loss: 1.1810 - val_accuracy: 0.6213 - lr: 2.0000e-05\n",
            "Epoch 37/48\n",
            "225/225 [==============================] - ETA: 0s - loss: 1.2249 - accuracy: 0.6000\n",
            "Epoch 37: val_accuracy did not improve from 0.62869\n",
            "\n",
            "Epoch 37: ReduceLROnPlateau reducing learning rate to 3.999999898951501e-06.\n",
            "225/225 [==============================] - 20s 91ms/step - loss: 1.2249 - accuracy: 0.6000 - val_loss: 1.1881 - val_accuracy: 0.6162 - lr: 2.0000e-05\n",
            "Epoch 38/48\n",
            "225/225 [==============================] - ETA: 0s - loss: 1.2096 - accuracy: 0.6039\n",
            "Epoch 38: val_accuracy did not improve from 0.62869\n",
            "225/225 [==============================] - 20s 91ms/step - loss: 1.2096 - accuracy: 0.6039 - val_loss: 1.1620 - val_accuracy: 0.6261 - lr: 4.0000e-06\n",
            "Epoch 39/48\n",
            "225/225 [==============================] - ETA: 0s - loss: 1.2040 - accuracy: 0.6040\n",
            "Epoch 39: val_accuracy did not improve from 0.62869\n",
            "225/225 [==============================] - 20s 90ms/step - loss: 1.2040 - accuracy: 0.6040 - val_loss: 1.1671 - val_accuracy: 0.6209 - lr: 4.0000e-06\n",
            "Epoch 40/48\n",
            "225/225 [==============================] - ETA: 0s - loss: 1.2006 - accuracy: 0.6068\n",
            "Epoch 40: val_accuracy did not improve from 0.62869\n",
            "225/225 [==============================] - 20s 91ms/step - loss: 1.2006 - accuracy: 0.6068 - val_loss: 1.1614 - val_accuracy: 0.6259 - lr: 4.0000e-06\n",
            "Epoch 41/48\n",
            "225/225 [==============================] - ETA: 0s - loss: 1.1987 - accuracy: 0.6075\n",
            "Epoch 41: val_accuracy did not improve from 0.62869\n",
            "225/225 [==============================] - 21s 91ms/step - loss: 1.1987 - accuracy: 0.6075 - val_loss: 1.1583 - val_accuracy: 0.6261 - lr: 4.0000e-06\n",
            "Epoch 42/48\n",
            "225/225 [==============================] - ETA: 0s - loss: 1.1989 - accuracy: 0.6097\n",
            "Epoch 42: val_accuracy did not improve from 0.62869\n",
            "225/225 [==============================] - 20s 91ms/step - loss: 1.1989 - accuracy: 0.6097 - val_loss: 1.1589 - val_accuracy: 0.6250 - lr: 4.0000e-06\n",
            "Epoch 43/48\n",
            "225/225 [==============================] - ETA: 0s - loss: 1.1997 - accuracy: 0.6052\n",
            "Epoch 43: val_accuracy improved from 0.62869 to 0.62969, saving model to ./model.h5\n",
            "225/225 [==============================] - 21s 92ms/step - loss: 1.1997 - accuracy: 0.6052 - val_loss: 1.1549 - val_accuracy: 0.6297 - lr: 4.0000e-06\n",
            "Epoch 44/48\n",
            "225/225 [==============================] - ETA: 0s - loss: 1.1957 - accuracy: 0.6095\n",
            "Epoch 44: val_accuracy did not improve from 0.62969\n",
            "225/225 [==============================] - 21s 93ms/step - loss: 1.1957 - accuracy: 0.6095 - val_loss: 1.1563 - val_accuracy: 0.6264 - lr: 4.0000e-06\n",
            "Epoch 45/48\n",
            "225/225 [==============================] - ETA: 0s - loss: 1.1944 - accuracy: 0.6092\n",
            "Epoch 45: val_accuracy improved from 0.62969 to 0.63026, saving model to ./model.h5\n",
            "225/225 [==============================] - 21s 91ms/step - loss: 1.1944 - accuracy: 0.6092 - val_loss: 1.1506 - val_accuracy: 0.6303 - lr: 4.0000e-06\n",
            "Epoch 46/48\n",
            "225/225 [==============================] - ETA: 0s - loss: 1.1870 - accuracy: 0.6086\n",
            "Epoch 46: val_accuracy did not improve from 0.63026\n",
            "225/225 [==============================] - 20s 91ms/step - loss: 1.1870 - accuracy: 0.6086 - val_loss: 1.1521 - val_accuracy: 0.6270 - lr: 4.0000e-06\n",
            "Epoch 47/48\n",
            "225/225 [==============================] - ETA: 0s - loss: 1.1923 - accuracy: 0.6085\n",
            "Epoch 47: val_accuracy did not improve from 0.63026\n",
            "\n",
            "Epoch 47: ReduceLROnPlateau reducing learning rate to 7.999999979801942e-07.\n",
            "225/225 [==============================] - 21s 91ms/step - loss: 1.1923 - accuracy: 0.6085 - val_loss: 1.1553 - val_accuracy: 0.6239 - lr: 4.0000e-06\n",
            "Epoch 48/48\n",
            "225/225 [==============================] - ETA: 0s - loss: 1.1865 - accuracy: 0.6110\n",
            "Epoch 48: val_accuracy did not improve from 0.63026\n",
            "225/225 [==============================] - 21s 91ms/step - loss: 1.1865 - accuracy: 0.6110 - val_loss: 1.1555 - val_accuracy: 0.6237 - lr: 8.0000e-07\n"
          ]
        }
      ]
    },
    {
      "metadata": {
        "id": "90PAFA-v49KN"
      },
      "cell_type": "markdown",
      "source": [
        "# Plotting Accuracy & Loss"
      ]
    },
    {
      "metadata": {
        "trusted": true,
        "id": "p2l-wl9q49KN"
      },
      "cell_type": "code",
      "source": [
        "plt.style.use('dark_background')\n",
        "\n",
        "plt.figure(figsize=(20,10))\n",
        "plt.subplot(1, 2, 1)\n",
        "plt.suptitle('Optimizer : Adam', fontsize=10)\n",
        "plt.ylabel('Loss', fontsize=16)\n",
        "plt.plot(history.history['loss'], label='Training Loss')\n",
        "plt.plot(history.history['val_loss'], label='Validation Loss')\n",
        "plt.legend(loc='upper right')\n",
        "\n",
        "plt.subplot(1, 2, 2)\n",
        "plt.ylabel('Accuracy', fontsize=16)\n",
        "plt.plot(history.history['accuracy'], label='Training Accuracy')\n",
        "plt.plot(history.history['val_accuracy'], label='Validation Accuracy')\n",
        "plt.legend(loc='lower right')\n",
        "plt.show()"
      ],
      "execution_count": null,
      "outputs": []
    },
    {
      "metadata": {
        "trusted": true,
        "id": "FsfOuqTQ49KN",
        "colab": {
          "base_uri": "https://localhost:8080/"
        },
        "outputId": "ff0d66df-159c-4d44-eb4e-becfde5a4e6e"
      },
      "cell_type": "code",
      "source": [
        "model.save('model5.h5')"
      ],
      "execution_count": null,
      "outputs": [
        {
          "output_type": "stream",
          "name": "stderr",
          "text": [
            "/usr/local/lib/python3.10/dist-packages/keras/src/engine/training.py:3103: UserWarning: You are saving your model as an HDF5 file via `model.save()`. This file format is considered legacy. We recommend using instead the native Keras format, e.g. `model.save('my_model.keras')`.\n",
            "  saving_api.save_model(\n"
          ]
        }
      ]
    },
    {
      "cell_type": "code",
      "source": [],
      "metadata": {
        "id": "q8A0-xK9Ugnn"
      },
      "execution_count": null,
      "outputs": []
    }
  ],
  "metadata": {
    "kernelspec": {
      "name": "python3",
      "display_name": "Python 3"
    },
    "language_info": {
      "name": "python",
      "version": "3.7.6",
      "mimetype": "text/x-python",
      "codemirror_mode": {
        "name": "ipython",
        "version": 3
      },
      "pygments_lexer": "ipython3",
      "nbconvert_exporter": "python",
      "file_extension": ".py"
    },
    "colab": {
      "provenance": [],
      "machine_shape": "hm",
      "gpuType": "L4",
      "include_colab_link": true
    },
    "accelerator": "GPU"
  },
  "nbformat": 4,
  "nbformat_minor": 0
}